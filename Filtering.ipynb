{
  "cells": [
    {
      "cell_type": "markdown",
      "metadata": {
        "id": "view-in-github",
        "colab_type": "text"
      },
      "source": [
        "<a href=\"https://colab.research.google.com/github/Perfect-Princess/Automation/blob/main/Filtering.ipynb\" target=\"_parent\"><img src=\"https://colab.research.google.com/assets/colab-badge.svg\" alt=\"Open In Colab\"/></a>"
      ]
    },
    {
      "cell_type": "code",
      "execution_count": null,
      "metadata": {
        "id": "qbkoQQmtWZ48"
      },
      "outputs": [],
      "source": [
        "# Import libraries\n",
        "import pandas as pd\n",
        "import numpy as np"
      ]
    },
    {
      "cell_type": "code",
      "execution_count": null,
      "metadata": {
        "id": "rkddomumWZ5B"
      },
      "outputs": [],
      "source": [
        "# Load Excel File\n",
        "filename = 'data/car_financing.xlsx'\n",
        "df = pd.read_excel(filename)"
      ]
    },
    {
      "cell_type": "markdown",
      "metadata": {
        "id": "k5Y2yyVnWZ5C"
      },
      "source": [
        "### Filtering Data\n",
        "Filter out the data to only have data `car_type` of 'Toyota Sienna' and `interest_rate` of 0.0702."
      ]
    },
    {
      "cell_type": "code",
      "execution_count": null,
      "metadata": {
        "id": "yuEu16VlWZ5E"
      },
      "outputs": [],
      "source": [
        "df.head()"
      ]
    },
    {
      "cell_type": "markdown",
      "metadata": {
        "id": "br-wq793WZ5F"
      },
      "source": [
        "### car_type filter\n",
        "Comparison Operator | Meaning\n",
        "--- | --- \n",
        "< | less than\n",
        "<= | less than or equal to\n",
        "> | greater than\n",
        ">= | greater than or equal to\n",
        "== | equal\n",
        "!= | not equal"
      ]
    },
    {
      "cell_type": "code",
      "execution_count": null,
      "metadata": {
        "id": "hTddKdT5WZ5F"
      },
      "outputs": [],
      "source": [
        "# Let's first start by looking at the car_type column. \n",
        "df['car_type'].value_counts()"
      ]
    },
    {
      "cell_type": "code",
      "execution_count": null,
      "metadata": {
        "id": "2FIMletdWZ5G"
      },
      "outputs": [],
      "source": [
        "# Notice that the filter produces a pandas series of True and False values\n",
        "car_filter = df['car_type']=='Toyota Sienna'"
      ]
    },
    {
      "cell_type": "code",
      "execution_count": null,
      "metadata": {
        "id": "r6RNHnYmWZ5H"
      },
      "outputs": [],
      "source": [
        "car_filter.head()"
      ]
    },
    {
      "cell_type": "code",
      "execution_count": null,
      "metadata": {
        "id": "HOQ-0oD-WZ5I"
      },
      "outputs": [],
      "source": [
        "# Approach 1 using square brackets\n",
        "# Filter dataframe to get a DataFrame of only 'Toyota Sienna'\n",
        "df[car_filter].head()"
      ]
    },
    {
      "cell_type": "code",
      "execution_count": null,
      "metadata": {
        "id": "zRt2kjKpWZ5J"
      },
      "outputs": [],
      "source": [
        "# Approach 2 using loc\n",
        "# Filter dataframe to get a DataFrame of only 'Toyota Sienna'\n",
        "df.loc[car_filter, :]"
      ]
    },
    {
      "cell_type": "code",
      "execution_count": null,
      "metadata": {
        "id": "SwJda3XuWZ5J"
      },
      "outputs": [],
      "source": [
        "# Notice that it looks like nothing changed\n",
        "# This is because we didn't update the dataframe after applying the filter\n",
        "df['car_type'].value_counts()"
      ]
    },
    {
      "cell_type": "code",
      "execution_count": null,
      "metadata": {
        "id": "aT-iVHaoWZ5K"
      },
      "outputs": [],
      "source": [
        "# Filter dataframe to get a DataFrame of only 'Toyota Sienna'\n",
        "df = df.loc[car_filter, :]"
      ]
    },
    {
      "cell_type": "code",
      "execution_count": null,
      "metadata": {
        "id": "2pKrmx3WWZ5K"
      },
      "outputs": [],
      "source": [
        "df['car_type'].value_counts()"
      ]
    },
    {
      "cell_type": "markdown",
      "metadata": {
        "id": "qdpQ-38QWZ5L"
      },
      "source": [
        "### interest_rate Filter\n",
        "Comparison Operator | Meaning\n",
        "--- | --- \n",
        "< | less than\n",
        "<= | less than or equal to\n",
        "> | greater than\n",
        ">= | greater than or equal to\n",
        "== | equal\n",
        "!= | not equal"
      ]
    },
    {
      "cell_type": "code",
      "execution_count": null,
      "metadata": {
        "id": "QeK1i49aWZ5L"
      },
      "outputs": [],
      "source": [
        "df['interest_rate'].value_counts()"
      ]
    },
    {
      "cell_type": "code",
      "execution_count": null,
      "metadata": {
        "id": "g_vWvSOtWZ5M"
      },
      "outputs": [],
      "source": [
        "# Notice that the filter produces a pandas series of True and False values\n",
        "df['interest_rate']==0.0702"
      ]
    },
    {
      "cell_type": "code",
      "execution_count": null,
      "metadata": {
        "id": "i_zolL-mWZ5M"
      },
      "outputs": [],
      "source": [
        "interest_filter = df['interest_rate']==0.0702"
      ]
    },
    {
      "cell_type": "code",
      "execution_count": null,
      "metadata": {
        "id": "3Rxo8k1SWZ5M"
      },
      "outputs": [],
      "source": [
        "df = df.loc[interest_filter, :]"
      ]
    },
    {
      "cell_type": "code",
      "execution_count": null,
      "metadata": {
        "id": "724brIGgWZ5N"
      },
      "outputs": [],
      "source": [
        "df['interest_rate'].value_counts(dropna = False)"
      ]
    },
    {
      "cell_type": "markdown",
      "metadata": {
        "id": "CWbIdJj7WZ5N"
      },
      "source": [
        "### Combining Filters\n",
        "In the previous sections, we created `car_filter` and `interest_filter` and used the `loc` command to filter the data by first applying the `car_filter` and then the `interest_filter`. An more concise way to do it is shown below. \n",
        "\n",
        "Bitwise Logic Operator | Meaning\n",
        "--- | --- \n",
        "& | and\n",
        "\\| | or\n",
        "^ | exclusive or\n",
        "~ | not"
      ]
    },
    {
      "cell_type": "code",
      "execution_count": null,
      "metadata": {
        "id": "r08kpObxWZ5N"
      },
      "outputs": [],
      "source": [
        "df.loc[car_filter & interest_filter, :]"
      ]
    }
  ],
  "metadata": {
    "anaconda-cloud": {},
    "kernelspec": {
      "display_name": "Python 3",
      "language": "python",
      "name": "python3"
    },
    "language_info": {
      "codemirror_mode": {
        "name": "ipython",
        "version": 3
      },
      "file_extension": ".py",
      "mimetype": "text/x-python",
      "name": "python",
      "nbconvert_exporter": "python",
      "pygments_lexer": "ipython3",
      "version": "3.6.8"
    },
    "colab": {
      "name": "Filtering.ipynb",
      "provenance": [],
      "include_colab_link": true
    }
  },
  "nbformat": 4,
  "nbformat_minor": 0
}